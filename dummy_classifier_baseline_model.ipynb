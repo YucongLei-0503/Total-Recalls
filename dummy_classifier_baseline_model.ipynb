{
 "cells": [
  {
   "cell_type": "code",
   "execution_count": 6,
   "id": "505bc6c2",
   "metadata": {},
   "outputs": [],
   "source": [
    "import pandas as pd\n",
    "from sklearn.dummy import DummyClassifier\n",
    "from sklearn.model_selection import train_test_split\n",
    "from sklearn.metrics import accuracy_score, precision_score, recall_score\n",
    "from sklearn.preprocessing import LabelEncoder\n",
    "\n",
    "#### LOAD AND MERGE DATA ####\n",
    "recall_df = pd.read_csv('test.csv') #original data set pulled from FDA site containined recalled items\n",
    "allinspections_df = pd.read_excel(\"fda_inspections.xlsx\") #recently found all inspections data \n",
    "\n",
    "# Step 1: Create recalled_bool using FEI Number\n",
    "allinspections_df['recalled_bool'] = allinspections_df['FEI Number'].apply(\n",
    "    lambda x: 1 if x in recall_df['FIRMFEINUM'].values else 0\n",
    ")\n",
    "\n",
    "# Step 2: (OPTIONAL) Override or combine with Classification logic\n",
    "# If Classification is OAI or VAI, you may consider it risky even if not recalled\n",
    "class_to_check = ['Official Action Indicated (OAI)', 'Voluntary Action Indicated (VAI)']\n",
    "allinspections_df['classification_flag'] = allinspections_df['Classification'].isin(class_to_check).astype(int)\n",
    "\n",
    "# Combine classification with recall label if needed (comment out if you don't want this)\n",
    "# allinspections_df['recalled_bool'] = allinspections_df[['recalled_bool', 'classification_flag']].max(axis=1)"
   ]
  },
  {
   "cell_type": "code",
   "execution_count": null,
   "id": "0a61c9fe",
   "metadata": {},
   "outputs": [],
   "source": [
    "#### FEATURE ENGINEERING ####\n",
    "# Convert date\n",
    "allinspections_df['Inspection End Date'] = pd.to_datetime(allinspections_df['Inspection End Date'])\n",
    "allinspections_df = allinspections_df.sort_values(['FEI Number', 'Inspection End Date'])\n",
    "\n",
    "# Date-based features\n",
    "allinspections_df['inspection_year'] = allinspections_df['Inspection End Date'].dt.year\n",
    "allinspections_df['inspection_month'] = allinspections_df['Inspection End Date'].dt.month\n",
    "allinspections_df['inspection_dayofweek'] = allinspections_df['Inspection End Date'].dt.dayofweek\n",
    "allinspections_df['inspection_quarter'] = allinspections_df['Inspection End Date'].dt.quarter\n",
    "allinspections_df['week_of_year'] = allinspections_df['Inspection End Date'].dt.isocalendar().week\n",
    "\n",
    "def get_season(month):\n",
    "    if month in [12, 1, 2]: return 'Winter'\n",
    "    elif month in [3, 4, 5]: return 'Spring'\n",
    "    elif month in [6, 7, 8]: return 'Summer'\n",
    "    return 'Fall'\n",
    "\n",
    "allinspections_df['inspection_season'] = allinspections_df['inspection_month'].apply(get_season)\n",
    "\n",
    "# Days since last inspection per FEI Number\n",
    "allinspections_df['days_since_last_inspection'] = allinspections_df.groupby('FEI Number')['Inspection End Date'].diff().dt.days\n",
    "allinspections_df['days_since_last_inspection'] = allinspections_df['days_since_last_inspection'].fillna(-1)"
   ]
  },
  {
   "cell_type": "code",
   "execution_count": null,
   "id": "93b8f7ab",
   "metadata": {},
   "outputs": [],
   "source": [
    "#### PREPARE DATA FOR MODELING ####\n",
    "#List of features (adjust if needed)\n",
    "features = [\n",
    "    'Posted Citations', 'Classification', 'Project Area', 'Product Type', 'State',\n",
    "    'Fiscal Year', 'inspection_year', 'inspection_month', 'inspection_dayofweek',\n",
    "    'inspection_quarter', 'week_of_year', 'inspection_season', 'days_since_last_inspection'\n",
    "]\n",
    "\n",
    "# Prepare dataframe for modeling\n",
    "df_model = allinspections_df[features + ['recalled_bool']].dropna()\n",
    "\n",
    "# Convert Posted Citations to binary\n",
    "df_model['Posted Citations'] = df_model['Posted Citations'].notnull().astype(int)\n",
    "\n",
    "# Encode categorical columns\n",
    "categorical_cols = ['Classification', 'Project Area', 'Product Type', 'State', 'inspection_season']\n",
    "for col in categorical_cols:\n",
    "    df_model[col] = LabelEncoder().fit_transform(df_model[col])\n",
    "\n"
   ]
  },
  {
   "cell_type": "code",
   "execution_count": null,
   "id": "df051267",
   "metadata": {},
   "outputs": [],
   "source": [
    "#### MODELING ####\n",
    "# Split into features and target\n",
    "# Define X and y\n",
    "X = df_model.drop('recalled_bool', axis=1)\n",
    "y = df_model['recalled_bool']\n",
    "\n",
    "# Split dataset\n",
    "X_train, X_test, y_train, y_test = train_test_split(X, y, stratify=y, random_state=42)\n",
    "\n",
    "# Initialize DummyClassifier using most frequent strategy (predicts majority class always)\n",
    "dummy = DummyClassifier(strategy=\"most_frequent\", random_state=42)\n",
    "dummy.fit(X_train, y_train)\n",
    "\n",
    "# Predict on test data\n",
    "y_pred_dummy = dummy.predict(X_test)\n",
    "\n",
    "# Evaluate\n",
    "print(\"DummyClassifier baseline results:\")\n",
    "print(\"Accuracy:\", accuracy_score(y_test, y_pred_dummy))\n",
    "print(\"Precision:\", precision_score(y_test, y_pred_dummy, zero_division=0))\n",
    "print(\"Recall:\", recall_score(y_test, y_pred_dummy, zero_division=0))"
   ]
  }
 ],
 "metadata": {
  "kernelspec": {
   "display_name": "erdos_summer_2025",
   "language": "python",
   "name": "python3"
  },
  "language_info": {
   "codemirror_mode": {
    "name": "ipython",
    "version": 3
   },
   "file_extension": ".py",
   "mimetype": "text/x-python",
   "name": "python",
   "nbconvert_exporter": "python",
   "pygments_lexer": "ipython3",
   "version": "3.12.10"
  }
 },
 "nbformat": 4,
 "nbformat_minor": 5
}
