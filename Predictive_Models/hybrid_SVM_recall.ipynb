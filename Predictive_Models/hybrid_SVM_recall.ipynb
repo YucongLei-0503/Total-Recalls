{
 "cells": [
  {
   "cell_type": "code",
   "execution_count": 1,
   "id": "2b86e216-6aa9-4702-970b-65c3751bc20d",
   "metadata": {},
   "outputs": [],
   "source": [
    "import pandas as pd\n",
    "import matplotlib.pyplot as plt\n",
    "import seaborn as sns\n",
    "from sklearn.model_selection import train_test_split, GridSearchCV\n",
    "from sklearn.preprocessing import StandardScaler\n",
    "from sklearn.svm import SVC\n",
    "from sklearn.metrics import (\n",
    "    classification_report,\n",
    "    confusion_matrix,\n",
    "    roc_curve,\n",
    "    roc_auc_score\n",
    ")"
   ]
  },
  {
   "cell_type": "code",
   "execution_count": 2,
   "id": "71646e02-52a0-46a2-a6e2-5828e8cde461",
   "metadata": {},
   "outputs": [
    {
     "name": "stderr",
     "output_type": "stream",
     "text": [
      "/Users/yuconglei/opt/anaconda3/lib/python3.7/site-packages/IPython/core/interactiveshell.py:3058: DtypeWarning: Columns (4) have mixed types. Specify dtype option on import or set low_memory=False.\n",
      "  interactivity=interactivity, compiler=compiler, result=result)\n"
     ]
    }
   ],
   "source": [
    "df = pd.read_csv(\"final_engineered_features.csv\")"
   ]
  },
  {
   "cell_type": "code",
   "execution_count": 3,
   "id": "bc05de32-01d3-44f3-b36e-1ecb2533e9ad",
   "metadata": {},
   "outputs": [
    {
     "name": "stdout",
     "output_type": "stream",
     "text": [
      "<class 'pandas.core.frame.DataFrame'>\n",
      "RangeIndex: 314488 entries, 0 to 314487\n",
      "Data columns (total 24 columns):\n",
      "FEI Number                    314488 non-null int64\n",
      "Legal Name                    314488 non-null object\n",
      "City                          314487 non-null object\n",
      "State                         314488 non-null object\n",
      "Zip                           314488 non-null object\n",
      "Country/Area                  314488 non-null object\n",
      "Fiscal Year                   314488 non-null int64\n",
      "Inspection ID                 314488 non-null int64\n",
      "Posted Citations              314488 non-null object\n",
      "Inspection End Date           314488 non-null object\n",
      "Classification                314488 non-null object\n",
      "Project Area                  314488 non-null object\n",
      "Product Type                  314488 non-null object\n",
      "Additional Details            314488 non-null object\n",
      "FMD-145 Date                  314488 non-null object\n",
      "recalled_bool                 314488 non-null int64\n",
      "classification_flag           314488 non-null int64\n",
      "inspection_year               314488 non-null int64\n",
      "inspection_month              314488 non-null int64\n",
      "inspection_dayofweek          314488 non-null int64\n",
      "inspection_quarter            314488 non-null int64\n",
      "week_of_year                  314488 non-null int64\n",
      "inspection_season             314488 non-null object\n",
      "days_since_last_inspection    314488 non-null float64\n",
      "dtypes: float64(1), int64(10), object(13)\n",
      "memory usage: 57.6+ MB\n"
     ]
    }
   ],
   "source": [
    "df.info()"
   ]
  },
  {
   "cell_type": "code",
   "execution_count": 4,
   "id": "0f4c1b22-58dc-4d3b-ac17-ca29ad3d1128",
   "metadata": {},
   "outputs": [
    {
     "data": {
      "text/html": [
       "<div>\n",
       "<style scoped>\n",
       "    .dataframe tbody tr th:only-of-type {\n",
       "        vertical-align: middle;\n",
       "    }\n",
       "\n",
       "    .dataframe tbody tr th {\n",
       "        vertical-align: top;\n",
       "    }\n",
       "\n",
       "    .dataframe thead th {\n",
       "        text-align: right;\n",
       "    }\n",
       "</style>\n",
       "<table border=\"1\" class=\"dataframe\">\n",
       "  <thead>\n",
       "    <tr style=\"text-align: right;\">\n",
       "      <th></th>\n",
       "      <th>FEI Number</th>\n",
       "      <th>Legal Name</th>\n",
       "      <th>City</th>\n",
       "      <th>State</th>\n",
       "      <th>Zip</th>\n",
       "      <th>Country/Area</th>\n",
       "      <th>Fiscal Year</th>\n",
       "      <th>Inspection ID</th>\n",
       "      <th>Posted Citations</th>\n",
       "      <th>Inspection End Date</th>\n",
       "      <th>...</th>\n",
       "      <th>FMD-145 Date</th>\n",
       "      <th>recalled_bool</th>\n",
       "      <th>classification_flag</th>\n",
       "      <th>inspection_year</th>\n",
       "      <th>inspection_month</th>\n",
       "      <th>inspection_dayofweek</th>\n",
       "      <th>inspection_quarter</th>\n",
       "      <th>week_of_year</th>\n",
       "      <th>inspection_season</th>\n",
       "      <th>days_since_last_inspection</th>\n",
       "    </tr>\n",
       "  </thead>\n",
       "  <tbody>\n",
       "    <tr>\n",
       "      <td>0</td>\n",
       "      <td>319</td>\n",
       "      <td>Wei Chuan Taichung Factory</td>\n",
       "      <td>Taichung</td>\n",
       "      <td>-</td>\n",
       "      <td>-</td>\n",
       "      <td>Taiwan</td>\n",
       "      <td>2010</td>\n",
       "      <td>618345</td>\n",
       "      <td>Yes</td>\n",
       "      <td>2009-10-05</td>\n",
       "      <td>...</td>\n",
       "      <td>-</td>\n",
       "      <td>0</td>\n",
       "      <td>1</td>\n",
       "      <td>2009</td>\n",
       "      <td>10</td>\n",
       "      <td>0</td>\n",
       "      <td>4</td>\n",
       "      <td>41</td>\n",
       "      <td>Fall</td>\n",
       "      <td>-1.0</td>\n",
       "    </tr>\n",
       "    <tr>\n",
       "      <td>130</td>\n",
       "      <td>8044</td>\n",
       "      <td>Productos Frescamar S.A. De C.V.</td>\n",
       "      <td>Ensenada</td>\n",
       "      <td>-</td>\n",
       "      <td>-</td>\n",
       "      <td>Mexico</td>\n",
       "      <td>2009</td>\n",
       "      <td>626338</td>\n",
       "      <td>No</td>\n",
       "      <td>2009-08-03</td>\n",
       "      <td>...</td>\n",
       "      <td>-</td>\n",
       "      <td>0</td>\n",
       "      <td>0</td>\n",
       "      <td>2009</td>\n",
       "      <td>8</td>\n",
       "      <td>0</td>\n",
       "      <td>3</td>\n",
       "      <td>32</td>\n",
       "      <td>Summer</td>\n",
       "      <td>-1.0</td>\n",
       "    </tr>\n",
       "    <tr>\n",
       "      <td>131</td>\n",
       "      <td>8103</td>\n",
       "      <td>Tropical Food Industries Company Limited</td>\n",
       "      <td>Mueang Samut Sakhon</td>\n",
       "      <td>-</td>\n",
       "      <td>-</td>\n",
       "      <td>Thailand</td>\n",
       "      <td>2023</td>\n",
       "      <td>1206614</td>\n",
       "      <td>No</td>\n",
       "      <td>2023-05-17</td>\n",
       "      <td>...</td>\n",
       "      <td>2023-06-23 00:00:00</td>\n",
       "      <td>0</td>\n",
       "      <td>0</td>\n",
       "      <td>2023</td>\n",
       "      <td>5</td>\n",
       "      <td>2</td>\n",
       "      <td>2</td>\n",
       "      <td>20</td>\n",
       "      <td>Spring</td>\n",
       "      <td>-1.0</td>\n",
       "    </tr>\n",
       "    <tr>\n",
       "      <td>132</td>\n",
       "      <td>8103</td>\n",
       "      <td>Tropical Food Industries Company Limited</td>\n",
       "      <td>Mueang Samut Sakhon</td>\n",
       "      <td>-</td>\n",
       "      <td>-</td>\n",
       "      <td>Thailand</td>\n",
       "      <td>2023</td>\n",
       "      <td>1206614</td>\n",
       "      <td>No</td>\n",
       "      <td>2023-05-17</td>\n",
       "      <td>...</td>\n",
       "      <td>2023-06-23 00:00:00</td>\n",
       "      <td>0</td>\n",
       "      <td>0</td>\n",
       "      <td>2023</td>\n",
       "      <td>5</td>\n",
       "      <td>2</td>\n",
       "      <td>2</td>\n",
       "      <td>20</td>\n",
       "      <td>Spring</td>\n",
       "      <td>0.0</td>\n",
       "    </tr>\n",
       "    <tr>\n",
       "      <td>133</td>\n",
       "      <td>8140</td>\n",
       "      <td>Modesto Carrodeguas, S.L.</td>\n",
       "      <td>Carino</td>\n",
       "      <td>-</td>\n",
       "      <td>-</td>\n",
       "      <td>Spain</td>\n",
       "      <td>2012</td>\n",
       "      <td>771563</td>\n",
       "      <td>Yes</td>\n",
       "      <td>2012-02-21</td>\n",
       "      <td>...</td>\n",
       "      <td>2012-07-31 00:00:00</td>\n",
       "      <td>0</td>\n",
       "      <td>1</td>\n",
       "      <td>2012</td>\n",
       "      <td>2</td>\n",
       "      <td>1</td>\n",
       "      <td>1</td>\n",
       "      <td>8</td>\n",
       "      <td>Winter</td>\n",
       "      <td>-1.0</td>\n",
       "    </tr>\n",
       "  </tbody>\n",
       "</table>\n",
       "<p>5 rows × 24 columns</p>\n",
       "</div>"
      ],
      "text/plain": [
       "     FEI Number                                Legal Name  \\\n",
       "0           319                Wei Chuan Taichung Factory   \n",
       "130        8044          Productos Frescamar S.A. De C.V.   \n",
       "131        8103  Tropical Food Industries Company Limited   \n",
       "132        8103  Tropical Food Industries Company Limited   \n",
       "133        8140                 Modesto Carrodeguas, S.L.   \n",
       "\n",
       "                    City State Zip Country/Area  Fiscal Year  Inspection ID  \\\n",
       "0               Taichung     -   -       Taiwan         2010         618345   \n",
       "130             Ensenada     -   -       Mexico         2009         626338   \n",
       "131  Mueang Samut Sakhon     -   -     Thailand         2023        1206614   \n",
       "132  Mueang Samut Sakhon     -   -     Thailand         2023        1206614   \n",
       "133               Carino     -   -        Spain         2012         771563   \n",
       "\n",
       "    Posted Citations Inspection End Date  ...         FMD-145 Date  \\\n",
       "0                Yes          2009-10-05  ...                    -   \n",
       "130               No          2009-08-03  ...                    -   \n",
       "131               No          2023-05-17  ...  2023-06-23 00:00:00   \n",
       "132               No          2023-05-17  ...  2023-06-23 00:00:00   \n",
       "133              Yes          2012-02-21  ...  2012-07-31 00:00:00   \n",
       "\n",
       "    recalled_bool classification_flag inspection_year inspection_month  \\\n",
       "0               0                   1            2009               10   \n",
       "130             0                   0            2009                8   \n",
       "131             0                   0            2023                5   \n",
       "132             0                   0            2023                5   \n",
       "133             0                   1            2012                2   \n",
       "\n",
       "     inspection_dayofweek  inspection_quarter  week_of_year  \\\n",
       "0                       0                   4            41   \n",
       "130                     0                   3            32   \n",
       "131                     2                   2            20   \n",
       "132                     2                   2            20   \n",
       "133                     1                   1             8   \n",
       "\n",
       "     inspection_season  days_since_last_inspection  \n",
       "0                 Fall                        -1.0  \n",
       "130             Summer                        -1.0  \n",
       "131             Spring                        -1.0  \n",
       "132             Spring                         0.0  \n",
       "133             Winter                        -1.0  \n",
       "\n",
       "[5 rows x 24 columns]"
      ]
     },
     "execution_count": 4,
     "metadata": {},
     "output_type": "execute_result"
    }
   ],
   "source": [
    "df = df[df['Product Type'] == 'Food/Cosmetics']\n",
    "df.head()"
   ]
  },
  {
   "cell_type": "code",
   "execution_count": 5,
   "id": "36d37716-2293-4987-bf7a-b8dee23c1983",
   "metadata": {},
   "outputs": [],
   "source": [
    "# STEP 1: Keep only companies with at least one recall\n",
    "company_with_recall = df.groupby(\"Legal Name\")['recalled_bool'].sum()\n",
    "companies_to_keep = company_with_recall[company_with_recall > 0].index\n",
    "df = df[df['Legal Name'].isin(companies_to_keep)].copy()"
   ]
  },
  {
   "cell_type": "code",
   "execution_count": 6,
   "id": "eda7f5e9-f980-4bd9-b2cf-c6b8b4b2c063",
   "metadata": {},
   "outputs": [
    {
     "data": {
      "text/html": [
       "<div>\n",
       "<style scoped>\n",
       "    .dataframe tbody tr th:only-of-type {\n",
       "        vertical-align: middle;\n",
       "    }\n",
       "\n",
       "    .dataframe tbody tr th {\n",
       "        vertical-align: top;\n",
       "    }\n",
       "\n",
       "    .dataframe thead th {\n",
       "        text-align: right;\n",
       "    }\n",
       "</style>\n",
       "<table border=\"1\" class=\"dataframe\">\n",
       "  <thead>\n",
       "    <tr style=\"text-align: right;\">\n",
       "      <th></th>\n",
       "      <th>FEI Number</th>\n",
       "      <th>Legal Name</th>\n",
       "      <th>City</th>\n",
       "      <th>State</th>\n",
       "      <th>Zip</th>\n",
       "      <th>Country/Area</th>\n",
       "      <th>Fiscal Year</th>\n",
       "      <th>Inspection ID</th>\n",
       "      <th>Posted Citations</th>\n",
       "      <th>Inspection End Date</th>\n",
       "      <th>...</th>\n",
       "      <th>FMD-145 Date</th>\n",
       "      <th>recalled_bool</th>\n",
       "      <th>classification_flag</th>\n",
       "      <th>inspection_year</th>\n",
       "      <th>inspection_month</th>\n",
       "      <th>inspection_dayofweek</th>\n",
       "      <th>inspection_quarter</th>\n",
       "      <th>week_of_year</th>\n",
       "      <th>inspection_season</th>\n",
       "      <th>days_since_last_inspection</th>\n",
       "    </tr>\n",
       "  </thead>\n",
       "  <tbody>\n",
       "    <tr>\n",
       "      <td>228</td>\n",
       "      <td>1010345</td>\n",
       "      <td>C &amp; S Wholesale Services, Inc.</td>\n",
       "      <td>Miami</td>\n",
       "      <td>Florida</td>\n",
       "      <td>33167</td>\n",
       "      <td>United States</td>\n",
       "      <td>2012</td>\n",
       "      <td>764564</td>\n",
       "      <td>Yes</td>\n",
       "      <td>2012-01-26</td>\n",
       "      <td>...</td>\n",
       "      <td>-</td>\n",
       "      <td>0</td>\n",
       "      <td>1</td>\n",
       "      <td>2012</td>\n",
       "      <td>1</td>\n",
       "      <td>3</td>\n",
       "      <td>1</td>\n",
       "      <td>4</td>\n",
       "      <td>Winter</td>\n",
       "      <td>-1.0</td>\n",
       "    </tr>\n",
       "    <tr>\n",
       "      <td>229</td>\n",
       "      <td>1010345</td>\n",
       "      <td>C &amp; S Wholesale Services, Inc.</td>\n",
       "      <td>Miami</td>\n",
       "      <td>Florida</td>\n",
       "      <td>33167</td>\n",
       "      <td>United States</td>\n",
       "      <td>2012</td>\n",
       "      <td>764564</td>\n",
       "      <td>Yes</td>\n",
       "      <td>2012-01-26</td>\n",
       "      <td>...</td>\n",
       "      <td>-</td>\n",
       "      <td>0</td>\n",
       "      <td>0</td>\n",
       "      <td>2012</td>\n",
       "      <td>1</td>\n",
       "      <td>3</td>\n",
       "      <td>1</td>\n",
       "      <td>4</td>\n",
       "      <td>Winter</td>\n",
       "      <td>0.0</td>\n",
       "    </tr>\n",
       "    <tr>\n",
       "      <td>230</td>\n",
       "      <td>1010345</td>\n",
       "      <td>C &amp; S Wholesale Services, Inc.</td>\n",
       "      <td>Miami</td>\n",
       "      <td>Florida</td>\n",
       "      <td>33167</td>\n",
       "      <td>United States</td>\n",
       "      <td>2013</td>\n",
       "      <td>803557</td>\n",
       "      <td>Yes</td>\n",
       "      <td>2012-10-17</td>\n",
       "      <td>...</td>\n",
       "      <td>-</td>\n",
       "      <td>0</td>\n",
       "      <td>1</td>\n",
       "      <td>2012</td>\n",
       "      <td>10</td>\n",
       "      <td>2</td>\n",
       "      <td>4</td>\n",
       "      <td>42</td>\n",
       "      <td>Fall</td>\n",
       "      <td>265.0</td>\n",
       "    </tr>\n",
       "    <tr>\n",
       "      <td>231</td>\n",
       "      <td>1010345</td>\n",
       "      <td>C &amp; S Wholesale Services, Inc.</td>\n",
       "      <td>Miami</td>\n",
       "      <td>Florida</td>\n",
       "      <td>33167</td>\n",
       "      <td>United States</td>\n",
       "      <td>2013</td>\n",
       "      <td>803557</td>\n",
       "      <td>Yes</td>\n",
       "      <td>2012-10-17</td>\n",
       "      <td>...</td>\n",
       "      <td>-</td>\n",
       "      <td>0</td>\n",
       "      <td>1</td>\n",
       "      <td>2012</td>\n",
       "      <td>10</td>\n",
       "      <td>2</td>\n",
       "      <td>4</td>\n",
       "      <td>42</td>\n",
       "      <td>Fall</td>\n",
       "      <td>0.0</td>\n",
       "    </tr>\n",
       "    <tr>\n",
       "      <td>232</td>\n",
       "      <td>1010345</td>\n",
       "      <td>C &amp; S Wholesale Services, Inc.</td>\n",
       "      <td>Miami</td>\n",
       "      <td>Florida</td>\n",
       "      <td>33167</td>\n",
       "      <td>United States</td>\n",
       "      <td>2013</td>\n",
       "      <td>845888</td>\n",
       "      <td>Yes</td>\n",
       "      <td>2013-08-27</td>\n",
       "      <td>...</td>\n",
       "      <td>-</td>\n",
       "      <td>0</td>\n",
       "      <td>1</td>\n",
       "      <td>2013</td>\n",
       "      <td>8</td>\n",
       "      <td>1</td>\n",
       "      <td>3</td>\n",
       "      <td>35</td>\n",
       "      <td>Summer</td>\n",
       "      <td>314.0</td>\n",
       "    </tr>\n",
       "  </tbody>\n",
       "</table>\n",
       "<p>5 rows × 24 columns</p>\n",
       "</div>"
      ],
      "text/plain": [
       "     FEI Number                      Legal Name   City    State    Zip  \\\n",
       "228     1010345  C & S Wholesale Services, Inc.  Miami  Florida  33167   \n",
       "229     1010345  C & S Wholesale Services, Inc.  Miami  Florida  33167   \n",
       "230     1010345  C & S Wholesale Services, Inc.  Miami  Florida  33167   \n",
       "231     1010345  C & S Wholesale Services, Inc.  Miami  Florida  33167   \n",
       "232     1010345  C & S Wholesale Services, Inc.  Miami  Florida  33167   \n",
       "\n",
       "      Country/Area  Fiscal Year  Inspection ID Posted Citations  \\\n",
       "228  United States         2012         764564              Yes   \n",
       "229  United States         2012         764564              Yes   \n",
       "230  United States         2013         803557              Yes   \n",
       "231  United States         2013         803557              Yes   \n",
       "232  United States         2013         845888              Yes   \n",
       "\n",
       "    Inspection End Date  ... FMD-145 Date recalled_bool classification_flag  \\\n",
       "228          2012-01-26  ...            -             0                   1   \n",
       "229          2012-01-26  ...            -             0                   0   \n",
       "230          2012-10-17  ...            -             0                   1   \n",
       "231          2012-10-17  ...            -             0                   1   \n",
       "232          2013-08-27  ...            -             0                   1   \n",
       "\n",
       "    inspection_year inspection_month  inspection_dayofweek  \\\n",
       "228            2012                1                     3   \n",
       "229            2012                1                     3   \n",
       "230            2012               10                     2   \n",
       "231            2012               10                     2   \n",
       "232            2013                8                     1   \n",
       "\n",
       "     inspection_quarter  week_of_year  inspection_season  \\\n",
       "228                   1             4             Winter   \n",
       "229                   1             4             Winter   \n",
       "230                   4            42               Fall   \n",
       "231                   4            42               Fall   \n",
       "232                   3            35             Summer   \n",
       "\n",
       "     days_since_last_inspection  \n",
       "228                        -1.0  \n",
       "229                         0.0  \n",
       "230                       265.0  \n",
       "231                         0.0  \n",
       "232                       314.0  \n",
       "\n",
       "[5 rows x 24 columns]"
      ]
     },
     "execution_count": 6,
     "metadata": {},
     "output_type": "execute_result"
    }
   ],
   "source": [
    "df.head()"
   ]
  },
  {
   "cell_type": "code",
   "execution_count": 7,
   "id": "b79b9edb-5172-4ca9-89e7-3c2b85b3e492",
   "metadata": {},
   "outputs": [],
   "source": [
    "# STEP 2: Extract date features\n",
    "df['Inspection End Date'] = pd.to_datetime(df['Inspection End Date'])\n",
    "df['inspection_year'] = df['Inspection End Date'].dt.year\n",
    "df['inspection_month'] = df['Inspection End Date'].dt.month\n",
    "df['inspection_dayofweek'] = df['Inspection End Date'].dt.dayofweek\n",
    "df.drop(columns=['Inspection End Date'], inplace=True)\n",
    "\n",
    "# STEP 3: Frequency encode 'City'\n",
    "city_freq_map = df['City'].value_counts().to_dict()\n",
    "df['City_freq'] = df['City'].map(city_freq_map)\n",
    "df.drop(columns=['City'], inplace=True)"
   ]
  },
  {
   "cell_type": "code",
   "execution_count": 8,
   "id": "88b6f3a5-0c99-4d0d-9b46-9dbbffd6355e",
   "metadata": {},
   "outputs": [],
   "source": [
    "# STEP 4: Feature selection\n",
    "X = df[['City_freq', 'inspection_year', 'inspection_month', 'inspection_dayofweek']]\n",
    "y = df['recalled_bool']\n",
    "\n",
    "# STEP 5: Train-test split\n",
    "X_train, X_test, y_train, y_test = train_test_split(\n",
    "    X, y, stratify=y, test_size=0.2, random_state=42\n",
    ")"
   ]
  },
  {
   "cell_type": "code",
   "execution_count": 9,
   "id": "7c10117c-9184-474d-96da-0b234dcd68b5",
   "metadata": {},
   "outputs": [
    {
     "name": "stdout",
     "output_type": "stream",
     "text": [
      "Fitting 5 folds for each of 16 candidates, totalling 80 fits\n"
     ]
    },
    {
     "name": "stderr",
     "output_type": "stream",
     "text": [
      "/Users/yuconglei/opt/anaconda3/lib/python3.7/site-packages/joblib/externals/loky/process_executor.py:706: UserWarning: A worker stopped while some jobs were given to the executor. This can be caused by a too short worker timeout or by a memory leak.\n",
      "  \"timeout or by a memory leak.\", UserWarning\n"
     ]
    },
    {
     "name": "stdout",
     "output_type": "stream",
     "text": [
      "Best Parameters: {'C': 100, 'class_weight': 'balanced', 'gamma': 1, 'kernel': 'rbf'}\n"
     ]
    }
   ],
   "source": [
    "# STEP 6: Scale features\n",
    "scaler = StandardScaler()\n",
    "X_train_scaled = scaler.fit_transform(X_train)\n",
    "X_test_scaled = scaler.transform(X_test)\n",
    "\n",
    "# STEP 7: Hyperparameter tuning using GridSearchCV\n",
    "param_grid = {\n",
    "    'C': [0.1, 1, 10, 100],\n",
    "    'gamma': [0.001, 0.01, 0.1, 1],\n",
    "    'kernel': ['rbf'],\n",
    "    'class_weight': ['balanced']\n",
    "}\n",
    "\n",
    "svc = SVC(probability=True)\n",
    "grid_search = GridSearchCV(\n",
    "    svc,\n",
    "    param_grid,\n",
    "    scoring='roc_auc',\n",
    "    cv=5,\n",
    "    n_jobs=-1,\n",
    "    verbose=2\n",
    ")\n",
    "\n",
    "grid_search.fit(X_train_scaled, y_train)\n",
    "\n",
    "# Best model from grid search\n",
    "best_svm = grid_search.best_estimator_\n",
    "print(f\"Best Parameters: {grid_search.best_params_}\")\n",
    "\n",
    "# STEP 8: Predictions\n",
    "y_pred = best_svm.predict(X_test_scaled)\n",
    "y_proba = best_svm.predict_proba(X_test_scaled)[:, 1]\n"
   ]
  },
  {
   "cell_type": "code",
   "execution_count": 10,
   "id": "bc3733b0-8c28-46dd-961a-7ac5bb550ce3",
   "metadata": {},
   "outputs": [
    {
     "name": "stdout",
     "output_type": "stream",
     "text": [
      "\n",
      "Classification Report:\n",
      "              precision    recall  f1-score   support\n",
      "\n",
      "           0       0.22      0.58      0.32       594\n",
      "           1       0.88      0.60      0.71      3064\n",
      "\n",
      "    accuracy                           0.60      3658\n",
      "   macro avg       0.55      0.59      0.51      3658\n",
      "weighted avg       0.77      0.60      0.65      3658\n",
      "\n"
     ]
    }
   ],
   "source": [
    "# Classification report\n",
    "print(\"\\nClassification Report:\")\n",
    "print(classification_report(y_test, y_pred))"
   ]
  },
  {
   "cell_type": "code",
   "execution_count": 11,
   "id": "f02a9ec4-868b-4ef1-bf73-7eb42de6e625",
   "metadata": {},
   "outputs": [
    {
     "name": "stdout",
     "output_type": "stream",
     "text": [
      "\n",
      "Confusion Matrix:\n",
      " [[ 342  252]\n",
      " [1229 1835]]\n"
     ]
    }
   ],
   "source": [
    "# Confusion matrix\n",
    "cm = confusion_matrix(y_test, y_pred)\n",
    "print(\"\\nConfusion Matrix:\\n\", cm)"
   ]
  },
  {
   "cell_type": "code",
   "execution_count": 12,
   "id": "25cadc58-1cb2-4ff6-b47b-bac85bc5aa52",
   "metadata": {},
   "outputs": [
    {
     "data": {
      "image/png": "[encoded data removed]",
      "text/plain": [
       "<Figure size 432x360 with 2 Axes>"
      ]
     },
     "metadata": {
      "needs_background": "light"
     },
     "output_type": "display_data"
    }
   ],
   "source": [
    "# Plot confusion matrix\n",
    "plt.figure(figsize=(6, 5))\n",
    "sns.heatmap(cm, annot=True, fmt='d', cmap='Blues',\n",
    "            xticklabels=['Not Recalled', 'Recalled'],\n",
    "            yticklabels=['Not Recalled', 'Recalled'])\n",
    "plt.xlabel('Predicted')\n",
    "plt.ylabel('Actual')\n",
    "plt.title('Confusion Matrix')\n",
    "plt.tight_layout()\n",
    "plt.show()"
   ]
  },
  {
   "cell_type": "code",
   "execution_count": 13,
   "id": "b0a0e73b-9b17-4796-afcc-ef28ce7d7b8c",
   "metadata": {},
   "outputs": [
    {
     "data": {
      "image/png": "[encoded data removed]",
      "text/plain": [
       "<Figure size 432x360 with 1 Axes>"
      ]
     },
     "metadata": {
      "needs_background": "light"
     },
     "output_type": "display_data"
    }
   ],
   "source": [
    "# STEP 9: ROC Curve\n",
    "fpr, tpr, thresholds = roc_curve(y_test, y_proba)\n",
    "roc_auc = roc_auc_score(y_test, y_proba)\n",
    "\n",
    "plt.figure(figsize=(6, 5))\n",
    "plt.plot(fpr, tpr, label=f'AUC = {roc_auc:.2f}')\n",
    "plt.plot([0, 1], [0, 1], 'k--', label='Random Classifier')\n",
    "plt.xlabel('False Positive Rate')\n",
    "plt.ylabel('True Positive Rate')\n",
    "plt.title('ROC Curve')\n",
    "plt.legend()\n",
    "plt.grid(True)\n",
    "plt.tight_layout()\n",
    "plt.show()"
   ]
  },
  {
   "cell_type": "code",
   "execution_count": 1,
   "id": "0a99c000-8807-4a0e-b427-3d276c32889e",
   "metadata": {},
   "outputs": [],
   "source": [
    "import pandas as pd\n",
    "from sklearn.model_selection import train_test_split, GridSearchCV\n",
    "from sklearn.preprocessing import StandardScaler\n",
    "from sklearn.svm import SVC\n",
    "from sklearn.metrics import classification_report, confusion_matrix, roc_curve, roc_auc_score\n",
    "import matplotlib.pyplot as plt\n",
    "import seaborn as sns"
   ]
  },
  {
   "cell_type": "code",
   "execution_count": 2,
   "id": "c7155073-ab9f-4e33-89e1-457c0b8f2ec9",
   "metadata": {},
   "outputs": [
    {
     "name": "stderr",
     "output_type": "stream",
     "text": [
      "/Users/yuconglei/opt/anaconda3/lib/python3.7/site-packages/IPython/core/interactiveshell.py:3058: DtypeWarning: Columns (4) have mixed types. Specify dtype option on import or set low_memory=False.\n",
      "  interactivity=interactivity, compiler=compiler, result=result)\n"
     ]
    }
   ],
   "source": [
    "df = pd.read_csv(\"final_engineered_features.csv\")"
   ]
  },
  {
   "cell_type": "code",
   "execution_count": 3,
   "id": "ed60f996-7b03-421f-b844-8f77cbf339f6",
   "metadata": {},
   "outputs": [],
   "source": [
    "# STEP 1: Split data into two groups\n",
    "company_recall_counts = df.groupby(\"Legal Name\")['recalled_bool'].sum()\n",
    "companies_with_recall = company_recall_counts[company_recall_counts > 0].index\n",
    "companies_without_recall = company_recall_counts[company_recall_counts == 0].index\n",
    "\n",
    "df_with_recall = df[df['Legal Name'].isin(companies_with_recall)].copy()\n",
    "df_without_recall = df[df['Legal Name'].isin(companies_without_recall)].copy()"
   ]
  },
  {
   "cell_type": "code",
   "execution_count": 4,
   "id": "da4115ec-71f1-492b-92f3-f7f5752b53c6",
   "metadata": {},
   "outputs": [],
   "source": [
    "# STEP 2: Preprocess 'df_with_recall'\n",
    "\n",
    "# Extract date features\n",
    "df_with_recall['Inspection End Date'] = pd.to_datetime(df_with_recall['Inspection End Date'])\n",
    "df_with_recall['inspection_year'] = df_with_recall['Inspection End Date'].dt.year\n",
    "df_with_recall['inspection_month'] = df_with_recall['Inspection End Date'].dt.month\n",
    "df_with_recall['inspection_dayofweek'] = df_with_recall['Inspection End Date'].dt.dayofweek\n",
    "df_with_recall.drop(columns=['Inspection End Date'], inplace=True)\n",
    "\n",
    "# Frequency encode 'City'\n",
    "city_freq_map = df_with_recall['City'].value_counts().to_dict()\n",
    "df_with_recall['City_freq'] = df_with_recall['City'].map(city_freq_map)\n",
    "df_with_recall.drop(columns=['City'], inplace=True)\n",
    "\n",
    "# Select features and target\n",
    "X = df_with_recall[['City_freq', 'inspection_year', 'inspection_month', 'inspection_dayofweek']]\n",
    "y = df_with_recall['recalled_bool']\n",
    "\n",
    "# Train/test split\n",
    "X_train, X_test, y_train, y_test = train_test_split(\n",
    "    X, y, stratify=y, test_size=0.2, random_state=42\n",
    ")\n",
    "\n",
    "# Standardize\n",
    "scaler = StandardScaler()\n",
    "X_train_scaled = scaler.fit_transform(X_train)\n",
    "X_test_scaled = scaler.transform(X_test)"
   ]
  },
  {
   "cell_type": "code",
   "execution_count": 5,
   "id": "9a19bf9c-1459-44c2-9603-5b29b3ca8b58",
   "metadata": {},
   "outputs": [
    {
     "name": "stdout",
     "output_type": "stream",
     "text": [
      "Fitting 5 folds for each of 9 candidates, totalling 45 fits\n"
     ]
    },
    {
     "name": "stderr",
     "output_type": "stream",
     "text": [
      "/Users/yuconglei/opt/anaconda3/lib/python3.7/site-packages/joblib/externals/loky/process_executor.py:706: UserWarning: A worker stopped while some jobs were given to the executor. This can be caused by a too short worker timeout or by a memory leak.\n",
      "  \"timeout or by a memory leak.\", UserWarning\n"
     ]
    },
    {
     "name": "stdout",
     "output_type": "stream",
     "text": [
      "\n",
      "Best Parameters: {'C': 10, 'class_weight': 'balanced', 'gamma': 1, 'kernel': 'rbf'}\n",
      "\n",
      "Classification Report:\n",
      "               precision    recall  f1-score   support\n",
      "\n",
      "           0       0.23      0.61      0.33       650\n",
      "           1       0.88      0.58      0.70      3168\n",
      "\n",
      "    accuracy                           0.58      3818\n",
      "   macro avg       0.55      0.59      0.52      3818\n",
      "weighted avg       0.77      0.58      0.64      3818\n",
      "\n"
     ]
    }
   ],
   "source": [
    "# SVM + GridSearchCV\n",
    "param_grid = {\n",
    "    'C': [0.1, 1, 10],\n",
    "    'gamma': [0.01, 0.1, 1],\n",
    "    'kernel': ['rbf'],\n",
    "    'class_weight': ['balanced']\n",
    "}\n",
    "grid_search = GridSearchCV(\n",
    "    SVC(probability=True), param_grid, scoring='roc_auc',\n",
    "    cv=5, n_jobs=-1, verbose=1\n",
    ")\n",
    "grid_search.fit(X_train_scaled, y_train)\n",
    "best_svm = grid_search.best_estimator_\n",
    "\n",
    "# Predict on test set (for eval)\n",
    "y_test_pred = best_svm.predict(X_test_scaled)\n",
    "y_test_proba = best_svm.predict_proba(X_test_scaled)[:, 1]\n",
    "\n",
    "# Evaluate\n",
    "print(\"\\nBest Parameters:\", grid_search.best_params_)\n",
    "print(\"\\nClassification Report:\\n\", classification_report(y_test, y_test_pred))"
   ]
  },
  {
   "cell_type": "code",
   "execution_count": 6,
   "id": "52430d34-c7d5-4c73-873b-e431a4941043",
   "metadata": {},
   "outputs": [
    {
     "data": {
      "image/png": "[encoded data removed]",
      "text/plain": [
       "<Figure size 432x288 with 2 Axes>"
      ]
     },
     "metadata": {
      "needs_background": "light"
     },
     "output_type": "display_data"
    }
   ],
   "source": [
    "# Confusion matrix\n",
    "cm = confusion_matrix(y_test, y_test_pred)\n",
    "sns.heatmap(cm, annot=True, fmt='d', cmap='Blues',\n",
    "            xticklabels=['Not Recalled', 'Recalled'],\n",
    "            yticklabels=['Not Recalled', 'Recalled'])\n",
    "plt.title(\"Confusion Matrix\")\n",
    "plt.xlabel(\"Predicted\")\n",
    "plt.ylabel(\"Actual\")\n",
    "plt.tight_layout()\n",
    "plt.show()"
   ]
  },
  {
   "cell_type": "code",
   "execution_count": 7,
   "id": "8b31f40a-bfa2-4b48-beae-6bfbb902a304",
   "metadata": {},
   "outputs": [
    {
     "data": {
      "image/png": "[encoded data removed]",
      "text/plain": [
       "<Figure size 432x288 with 1 Axes>"
      ]
     },
     "metadata": {
      "needs_background": "light"
     },
     "output_type": "display_data"
    }
   ],
   "source": [
    "# ROC\n",
    "fpr, tpr, _ = roc_curve(y_test, y_test_proba)\n",
    "auc = roc_auc_score(y_test, y_test_proba)\n",
    "plt.plot(fpr, tpr, label=f'AUC = {auc:.2f}')\n",
    "plt.plot([0, 1], [0, 1], 'k--')\n",
    "plt.xlabel(\"False Positive Rate\")\n",
    "plt.ylabel(\"True Positive Rate\")\n",
    "plt.title(\"ROC Curve\")\n",
    "plt.legend()\n",
    "plt.grid(True)\n",
    "plt.tight_layout()\n",
    "plt.show()"
   ]
  },
  {
   "cell_type": "code",
   "execution_count": 8,
   "id": "301bf246-d59c-4625-867d-e61ae40e2d3b",
   "metadata": {},
   "outputs": [
    {
     "name": "stderr",
     "output_type": "stream",
     "text": [
      "/Users/yuconglei/opt/anaconda3/lib/python3.7/site-packages/ipykernel_launcher.py:11: FutureWarning: Sorting because non-concatenation axis is not aligned. A future version\n",
      "of pandas will change to not sort by default.\n",
      "\n",
      "To accept the future behavior, pass 'sort=False'.\n",
      "\n",
      "To retain the current behavior and silence the warning, pass 'sort=True'.\n",
      "\n",
      "  # This is added back by InteractiveShellApp.init_path()\n"
     ]
    },
    {
     "name": "stdout",
     "output_type": "stream",
     "text": [
      "\n",
      "Final Overall Evaluation:\n",
      "              precision    recall  f1-score   support\n",
      "\n",
      "           0       0.98      1.00      0.99    298649\n",
      "           1       0.90      0.59      0.72     15839\n",
      "\n",
      "    accuracy                           0.98    314488\n",
      "   macro avg       0.94      0.80      0.85    314488\n",
      "weighted avg       0.98      0.98      0.97    314488\n",
      "\n"
     ]
    }
   ],
   "source": [
    "# STEP 3: Predict on all data (including test portion and the excluded companies)\n",
    "\n",
    "## Preprocess both recall-prone and non-recall-prone for final prediction\n",
    "# ---- Recall-prone companies ----\n",
    "df_with_recall['prediction'] = best_svm.predict(scaler.transform(df_with_recall[['City_freq', 'inspection_year', 'inspection_month', 'inspection_dayofweek']]))\n",
    "\n",
    "# ---- Companies with no recalls ----\n",
    "df_without_recall['prediction'] = 0  # All not recalled\n",
    "\n",
    "# STEP 4: Combine all\n",
    "df_combined = pd.concat([df_with_recall, df_without_recall], axis=0).sort_index()\n",
    "\n",
    "# Optionally, compare with true labels if available\n",
    "if 'recalled_bool' in df_combined.columns:\n",
    "    print(\"\\nFinal Overall Evaluation:\")\n",
    "    print(classification_report(df_combined['recalled_bool'], df_combined['prediction']))"
   ]
  },
  {
   "cell_type": "code",
   "execution_count": 9,
   "id": "cf5a24bd-284e-4e03-9805-8ee086cc3837",
   "metadata": {},
   "outputs": [
    {
     "name": "stdout",
     "output_type": "stream",
     "text": [
      "\n",
      "Hybrid Model Evaluation Report\n",
      "-----------------------------------\n",
      "Accuracy: 0.9764\n",
      "\n",
      "              precision    recall  f1-score   support\n",
      "\n",
      "Not Recalled       0.98      1.00      0.99    298649\n",
      "    Recalled       0.90      0.59      0.72     15839\n",
      "\n",
      "    accuracy                           0.98    314488\n",
      "   macro avg       0.94      0.80      0.85    314488\n",
      "weighted avg       0.98      0.98      0.97    314488\n",
      "\n",
      "\n",
      "Report saved to: /Users/yuconglei/anaconda_projects/08924650-3e98-4a2d-8a6e-820f32148f14/hybrid_model_report.txt\n"
     ]
    }
   ],
   "source": [
    "from sklearn.metrics import accuracy_score\n",
    "import os\n",
    "\n",
    "# STEP 5: Evaluate and Export Report\n",
    "\n",
    "# Compute metrics\n",
    "y_true = df_combined['recalled_bool']\n",
    "y_pred = df_combined['prediction']\n",
    "\n",
    "report_str = classification_report(y_true, y_pred, target_names=['Not Recalled', 'Recalled'])\n",
    "accuracy = accuracy_score(y_true, y_pred)\n",
    "\n",
    "# Combine into one report string\n",
    "full_report = f\"Hybrid Model Evaluation Report\\n\"\n",
    "full_report += f\"{'-'*35}\\n\"\n",
    "full_report += f\"Accuracy: {accuracy:.4f}\\n\\n\"\n",
    "full_report += report_str\n",
    "\n",
    "# Print in console\n",
    "print(\"\\n\" + full_report)\n",
    "\n",
    "# Save to text file\n",
    "report_path = \"hybrid_model_report.txt\"\n",
    "with open(report_path, \"w\") as f:\n",
    "    f.write(full_report)\n",
    "\n",
    "print(f\"\\nReport saved to: {os.path.abspath(report_path)}\")\n"
   ]
  },
  {
   "cell_type": "code",
   "execution_count": null,
   "id": "086a1ab8-9db4-4111-b81f-6d5a6f133a6b",
   "metadata": {},
   "outputs": [],
   "source": []
  }
 ],
 "metadata": {
  "kernelspec": {
   "display_name": "Python [conda env:anaconda3]",
   "language": "python",
   "name": "conda-env-anaconda3-py"
  },
  "language_info": {
   "codemirror_mode": {
    "name": "ipython",
    "version": 3
   },
   "file_extension": ".py",
   "mimetype": "text/x-python",
   "name": "python",
   "nbconvert_exporter": "python",
   "pygments_lexer": "ipython3",
   "version": "3.7.4"
  }
 },
 "nbformat": 4,
 "nbformat_minor": 5
}
