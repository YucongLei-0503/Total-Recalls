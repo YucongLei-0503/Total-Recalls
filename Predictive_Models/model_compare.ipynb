{
 "cells": [
  {
   "cell_type": "markdown",
   "id": "82ce4c9f",
   "metadata": {},
   "source": [
    "Code for final model selection using cross validation"
   ]
  },
  {
   "cell_type": "code",
   "execution_count": null,
   "id": "421c5101",
   "metadata": {},
   "outputs": [],
   "source": [
    "from sklearn.linear_model import LinearRegression\n",
    "from sklearn.metrics import root_mean_squared_error\n",
    "\n",
    "slr = LinearRegression()\n",
    "mlr = LinearRegression()\n",
    "\n",
    "# rmses will hold the cross validation root mean squared errors of each model.\n",
    "rmses = np.zeros((2, 5))\n",
    "\n",
    "for i, (train_index, test_index) in enumerate(kfold.split(X_train, y_train)):\n",
    "    ## get the kfold training data\n",
    "    X_train_train = X_train.iloc[train_index, :]\n",
    "    y_train_train = y_train.iloc[train_index]\n",
    "\n",
    "    ## get the holdout data\n",
    "    X_holdout = X_train.iloc[test_index, :]\n",
    "    y_holdout = y_train.iloc[test_index]\n",
    "\n",
    "    ## Fit both models\n",
    "    slr.fit(X_train_train[[\"Length\"]], y_train_train)\n",
    "    mlr.fit(X_train_train[continuous_features], y_train_train)\n",
    "\n",
    "    ## Use both models to generate predictions on the holdout set\n",
    "    slr_preds = slr.predict(X_holdout[[\"Length\"]])\n",
    "    mlr_preds = mlr.predict(X_holdout[continuous_features])\n",
    "\n",
    "    ## Record the rmses\n",
    "    rmses[0, i] = root_mean_squared_error(y_holdout, slr_preds)\n",
    "    rmses[1, i] = root_mean_squared_error(y_holdout, mlr_preds)"
   ]
  }
 ],
 "metadata": {
  "kernelspec": {
   "display_name": "erdos_summer_2025",
   "language": "python",
   "name": "python3"
  },
  "language_info": {
   "name": "python",
   "version": "3.12.10"
  }
 },
 "nbformat": 4,
 "nbformat_minor": 5
}
