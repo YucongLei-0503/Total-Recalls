{
 "cells": [
  {
   "cell_type": "code",
   "execution_count": 1,
   "id": "505bc6c2",
   "metadata": {},
   "outputs": [],
   "source": [
    "import pandas as pd\n",
    "import matplotlib.pyplot as plt\n",
    "from sklearn.linear_model import LogisticRegression\n",
    "from sklearn.model_selection import train_test_split\n",
    "from sklearn.preprocessing import LabelEncoder\n",
    "import seaborn as sns\n",
    "\n",
    "#### LOAD AND MERGE DATA ####\n",
    "recall_df = pd.read_csv('../Data/test.csv') #original data set pulled from FDA site containined recalled items\n",
    "allinspections_df = pd.read_excel(\"../Data/fda_inspections.xlsx\") #recently found all inspections data \n",
    "\n",
    "# Step 1: Create recalled_bool using FEI Number\n",
    "allinspections_df['recalled_bool'] = allinspections_df['FEI Number'].apply(\n",
    "    lambda x: 1 if x in recall_df['FIRMFEINUM'].values else 0\n",
    ")\n",
    "\n",
    "# Step 2: (OPTIONAL) Override or combine with Classification logic\n",
    "# If Classification is OAI or VAI, you may consider it risky even if not recalled\n",
    "class_to_check = ['Official Action Indicated (OAI)', 'Voluntary Action Indicated (VAI)']\n",
    "allinspections_df['classification_flag'] = allinspections_df['Classification'].isin(class_to_check).astype(int)\n",
    "\n",
    "# Combine classification with recall label if needed (comment out if you don't want this)\n",
    "# allinspections_df['recalled_bool'] = allinspections_df[['recalled_bool', 'classification_flag']].max(axis=1)"
   ]
  },
  {
   "cell_type": "code",
   "execution_count": null,
   "id": "0a61c9fe",
   "metadata": {},
   "outputs": [
    {
     "ename": "KeyboardInterrupt",
     "evalue": "",
     "output_type": "error",
     "traceback": [
      "\u001b[31m---------------------------------------------------------------------------\u001b[39m",
      "\u001b[31mKeyboardInterrupt\u001b[39m                         Traceback (most recent call last)",
      "\u001b[36mCell\u001b[39m\u001b[36m \u001b[39m\u001b[32mIn[2]\u001b[39m\u001b[32m, line 8\u001b[39m\n\u001b[32m      6\u001b[39m \u001b[38;5;66;03m# Date-based features\u001b[39;00m\n\u001b[32m      7\u001b[39m allinspections_df[\u001b[33m'\u001b[39m\u001b[33minspection_year\u001b[39m\u001b[33m'\u001b[39m] = allinspections_df[\u001b[33m'\u001b[39m\u001b[33mInspection End Date\u001b[39m\u001b[33m'\u001b[39m].dt.year\n\u001b[32m----> \u001b[39m\u001b[32m8\u001b[39m allinspections_df[\u001b[33m'\u001b[39m\u001b[33minspection_month\u001b[39m\u001b[33m'\u001b[39m] = \u001b[43mallinspections_df\u001b[49m\u001b[43m[\u001b[49m\u001b[33;43m'\u001b[39;49m\u001b[33;43mInspection End Date\u001b[39;49m\u001b[33;43m'\u001b[39;49m\u001b[43m]\u001b[49m\u001b[43m.\u001b[49m\u001b[43mdt\u001b[49m\u001b[43m.\u001b[49m\u001b[43mmonth\u001b[49m\n\u001b[32m      9\u001b[39m allinspections_df[\u001b[33m'\u001b[39m\u001b[33minspection_dayofweek\u001b[39m\u001b[33m'\u001b[39m] = allinspections_df[\u001b[33m'\u001b[39m\u001b[33mInspection End Date\u001b[39m\u001b[33m'\u001b[39m].dt.dayofweek\n\u001b[32m     10\u001b[39m allinspections_df[\u001b[33m'\u001b[39m\u001b[33minspection_quarter\u001b[39m\u001b[33m'\u001b[39m] = allinspections_df[\u001b[33m'\u001b[39m\u001b[33mInspection End Date\u001b[39m\u001b[33m'\u001b[39m].dt.quarter\n",
      "\u001b[36mFile \u001b[39m\u001b[32m~/anaconda3/envs/erdos_summer_2025/lib/python3.12/site-packages/pandas/core/accessor.py:96\u001b[39m, in \u001b[36mPandasDelegate._add_delegate_accessors.<locals>._create_delegator_property.<locals>._getter\u001b[39m\u001b[34m(self)\u001b[39m\n\u001b[32m     95\u001b[39m \u001b[38;5;28;01mdef\u001b[39;00m\u001b[38;5;250m \u001b[39m\u001b[34m_getter\u001b[39m(\u001b[38;5;28mself\u001b[39m):\n\u001b[32m---> \u001b[39m\u001b[32m96\u001b[39m     \u001b[38;5;28;01mreturn\u001b[39;00m \u001b[38;5;28;43mself\u001b[39;49m\u001b[43m.\u001b[49m\u001b[43m_delegate_property_get\u001b[49m\u001b[43m(\u001b[49m\u001b[43mname\u001b[49m\u001b[43m)\u001b[49m\n",
      "\u001b[36mFile \u001b[39m\u001b[32m~/anaconda3/envs/erdos_summer_2025/lib/python3.12/site-packages/pandas/core/indexes/accessors.py:93\u001b[39m, in \u001b[36mProperties._delegate_property_get\u001b[39m\u001b[34m(self, name)\u001b[39m\n\u001b[32m     89\u001b[39m \u001b[38;5;28;01mfrom\u001b[39;00m\u001b[38;5;250m \u001b[39m\u001b[34;01mpandas\u001b[39;00m\u001b[38;5;250m \u001b[39m\u001b[38;5;28;01mimport\u001b[39;00m Series\n\u001b[32m     91\u001b[39m values = \u001b[38;5;28mself\u001b[39m._get_values()\n\u001b[32m---> \u001b[39m\u001b[32m93\u001b[39m result = \u001b[38;5;28;43mgetattr\u001b[39;49m\u001b[43m(\u001b[49m\u001b[43mvalues\u001b[49m\u001b[43m,\u001b[49m\u001b[43m \u001b[49m\u001b[43mname\u001b[49m\u001b[43m)\u001b[49m\n\u001b[32m     95\u001b[39m \u001b[38;5;66;03m# maybe need to upcast (ints)\u001b[39;00m\n\u001b[32m     96\u001b[39m \u001b[38;5;28;01mif\u001b[39;00m \u001b[38;5;28misinstance\u001b[39m(result, np.ndarray):\n",
      "\u001b[36mFile \u001b[39m\u001b[32m~/anaconda3/envs/erdos_summer_2025/lib/python3.12/site-packages/pandas/core/indexes/extension.py:68\u001b[39m, in \u001b[36m_inherit_from_data.<locals>.fget\u001b[39m\u001b[34m(self)\u001b[39m\n\u001b[32m     67\u001b[39m \u001b[38;5;28;01mdef\u001b[39;00m\u001b[38;5;250m \u001b[39m\u001b[34mfget\u001b[39m(\u001b[38;5;28mself\u001b[39m):\n\u001b[32m---> \u001b[39m\u001b[32m68\u001b[39m     result = \u001b[38;5;28;43mgetattr\u001b[39;49m\u001b[43m(\u001b[49m\u001b[38;5;28;43mself\u001b[39;49m\u001b[43m.\u001b[49m\u001b[43m_data\u001b[49m\u001b[43m,\u001b[49m\u001b[43m \u001b[49m\u001b[43mname\u001b[49m\u001b[43m)\u001b[49m\n\u001b[32m     69\u001b[39m     \u001b[38;5;28;01mif\u001b[39;00m wrap:\n\u001b[32m     70\u001b[39m         \u001b[38;5;28;01mif\u001b[39;00m \u001b[38;5;28misinstance\u001b[39m(result, \u001b[38;5;28mtype\u001b[39m(\u001b[38;5;28mself\u001b[39m._data)):\n",
      "\u001b[36mFile \u001b[39m\u001b[32m~/anaconda3/envs/erdos_summer_2025/lib/python3.12/site-packages/pandas/core/arrays/datetimes.py:152\u001b[39m, in \u001b[36m_field_accessor.<locals>.f\u001b[39m\u001b[34m(self)\u001b[39m\n\u001b[32m    149\u001b[39m     result = \u001b[38;5;28mself\u001b[39m._maybe_mask_results(result, fill_value=\u001b[38;5;28;01mNone\u001b[39;00m)\n\u001b[32m    151\u001b[39m \u001b[38;5;28;01melse\u001b[39;00m:\n\u001b[32m--> \u001b[39m\u001b[32m152\u001b[39m     result = \u001b[43mfields\u001b[49m\u001b[43m.\u001b[49m\u001b[43mget_date_field\u001b[49m\u001b[43m(\u001b[49m\u001b[43mvalues\u001b[49m\u001b[43m,\u001b[49m\u001b[43m \u001b[49m\u001b[43mfield\u001b[49m\u001b[43m,\u001b[49m\u001b[43m \u001b[49m\u001b[43mreso\u001b[49m\u001b[43m=\u001b[49m\u001b[38;5;28;43mself\u001b[39;49m\u001b[43m.\u001b[49m\u001b[43m_creso\u001b[49m\u001b[43m)\u001b[49m\n\u001b[32m    153\u001b[39m     result = \u001b[38;5;28mself\u001b[39m._maybe_mask_results(\n\u001b[32m    154\u001b[39m         result, fill_value=\u001b[38;5;28;01mNone\u001b[39;00m, convert=\u001b[33m\"\u001b[39m\u001b[33mfloat64\u001b[39m\u001b[33m\"\u001b[39m\n\u001b[32m    155\u001b[39m     )\n\u001b[32m    157\u001b[39m \u001b[38;5;28;01mreturn\u001b[39;00m result\n",
      "\u001b[31mKeyboardInterrupt\u001b[39m: "
     ]
    }
   ],
   "source": [
    "#### FEATURE ENGINEERING ####\n",
    "# Convert date\n",
    "allinspections_df['Inspection End Date'] = pd.to_datetime(allinspections_df['Inspection End Date'])\n",
    "allinspections_df = allinspections_df.sort_values(['FEI Number', 'Inspection End Date'])\n",
    "\n",
    "# Date-based features\n",
    "allinspections_df['inspection_year'] = allinspections_df['Inspection End Date'].dt.year\n",
    "allinspections_df['inspection_month'] = allinspections_df['Inspection End Date'].dt.month\n",
    "allinspections_df['inspection_dayofweek'] = allinspections_df['Inspection End Date'].dt.dayofweek\n",
    "allinspections_df['inspection_quarter'] = allinspections_df['Inspection End Date'].dt.quarter\n",
    "allinspections_df['week_of_year'] = allinspections_df['Inspection End Date'].dt.isocalendar().week\n",
    "\n",
    "def get_season(month):\n",
    "    if month in [12, 1, 2]: return 'Winter'\n",
    "    elif month in [3, 4, 5]: return 'Spring'\n",
    "    elif month in [6, 7, 8]: return 'Summer'\n",
    "    return 'Fall'\n",
    "\n",
    "allinspections_df['inspection_season'] = allinspections_df['inspection_month'].apply(get_season)\n",
    "\n",
    "# Days since last inspection per FEI Number\n",
    "allinspections_df['days_since_last_inspection'] = allinspections_df.groupby('FEI Number')['Inspection End Date'].diff().dt.days\n",
    "allinspections_df['days_since_last_inspection'] = allinspections_df['days_since_last_inspection'].fillna(-1)"
   ]
  },
  {
   "cell_type": "code",
   "execution_count": null,
   "id": "93b8f7ab",
   "metadata": {},
   "outputs": [],
   "source": [
    "#### PREPARE DATA FOR MODELING ####\n",
    "#List of features (adjust if needed)\n",
    "features = [\n",
    "    'Posted Citations', 'Classification', 'Project Area', 'Product Type', 'State',\n",
    "    'Fiscal Year', 'inspection_year', 'inspection_month', 'inspection_dayofweek',\n",
    "    'inspection_quarter', 'week_of_year', 'inspection_season', 'days_since_last_inspection'\n",
    "]\n",
    "\n",
    "# Prepare dataframe for modeling\n",
    "df_model = allinspections_df[features + ['recalled_bool']].dropna()\n",
    "\n",
    "# Convert Posted Citations to binary\n",
    "df_model['Posted Citations'] = df_model['Posted Citations'].notnull().astype(int)\n",
    "\n",
    "# Encode categorical columns\n",
    "categorical_cols = ['Classification', 'Project Area', 'Product Type', 'State', 'inspection_season']\n",
    "for col in categorical_cols:\n",
    "    df_model[col] = LabelEncoder().fit_transform(df_model[col])\n",
    "\n"
   ]
  },
  {
   "cell_type": "code",
   "execution_count": null,
   "id": "df051267",
   "metadata": {},
   "outputs": [],
   "source": [
    "#### MODELING ####\n",
    "# Split into features and target\n",
    "X = df_model.drop('recalled_bool', axis=1)\n",
    "y = df_model['recalled_bool']\n",
    "\n",
    "# Train/test split (stratify on y to keep class balance)\n",
    "X_train, X_test, y_train, y_test = train_test_split(X, y, stratify=y, random_state=42)\n",
    "\n",
    "# Initialize and train logistic regression\n",
    "logreg = LogisticRegression(max_iter=1000, random_state=42)\n",
    "logreg.fit(X_train, y_train)\n",
    "\n",
    "# Predict on test set\n",
    "y_pred = logreg.predict(X_test)\n",
    "y_pred_proba = logreg.predict_proba(X_test)[:, 1]\n",
    "\n",
    "# Evaluate\n",
    "print(\"Logistic Regression baseline results:\")\n",
    "print(\"Accuracy:\", accuracy_score(y_test, y_pred))\n",
    "print(\"Precision:\", precision_score(y_test, y_pred))\n",
    "print(\"Recall:\", recall_score(y_test, y_pred))\n",
    "print(\"ROC AUC:\", roc_auc_score(y_test, y_pred_proba))"
   ]
  }
 ],
 "metadata": {
  "kernelspec": {
   "display_name": "erdos_summer_2025",
   "language": "python",
   "name": "python3"
  },
  "language_info": {
   "codemirror_mode": {
    "name": "ipython",
    "version": 3
   },
   "file_extension": ".py",
   "mimetype": "text/x-python",
   "name": "python",
   "nbconvert_exporter": "python",
   "pygments_lexer": "ipython3",
   "version": "3.12.10"
  }
 },
 "nbformat": 4,
 "nbformat_minor": 5
}
