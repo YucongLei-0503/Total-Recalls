{
 "cells": [
  {
   "cell_type": "code",
   "execution_count": 1,
   "id": "9eb6e5b3-cc27-477c-8b8c-313d714d6f1c",
   "metadata": {},
   "outputs": [],
   "source": [
    "import pandas as pd"
   ]
  },
  {
   "cell_type": "code",
   "execution_count": 2,
   "id": "a0ad2d30-6c4f-4118-9dd2-d70a0b7cd8c4",
   "metadata": {},
   "outputs": [],
   "source": [
    "recalls = pd.read_excel('fda_recalls.xlsx')"
   ]
  },
  {
   "cell_type": "code",
   "execution_count": 3,
   "id": "f7d28a7e-5ada-4542-86f9-fdba5b6d35ca",
   "metadata": {},
   "outputs": [
    {
     "name": "stdout",
     "output_type": "stream",
     "text": [
      "<class 'pandas.core.frame.DataFrame'>\n",
      "RangeIndex: 96413 entries, 0 to 96412\n",
      "Data columns (total 17 columns):\n",
      " #   Column                      Non-Null Count  Dtype         \n",
      "---  ------                      --------------  -----         \n",
      " 0   FEI Number                  96413 non-null  object        \n",
      " 1   Recalling Firm Name         96413 non-null  object        \n",
      " 2   Product Type                96413 non-null  object        \n",
      " 3   Product Classification      96413 non-null  object        \n",
      " 4   Status                      96413 non-null  object        \n",
      " 5   Distribution Pattern        96412 non-null  object        \n",
      " 6   Recalling Firm City         96413 non-null  object        \n",
      " 7   Recalling Firm State        96413 non-null  object        \n",
      " 8   Recalling Firm Country      96413 non-null  object        \n",
      " 9   Center Classification Date  96413 non-null  datetime64[ns]\n",
      " 10  Reason for Recall           96413 non-null  object        \n",
      " 11  Product Description         96413 non-null  object        \n",
      " 12  Event ID                    96413 non-null  int64         \n",
      " 13  Event Classification        96413 non-null  object        \n",
      " 14  Product ID                  96413 non-null  int64         \n",
      " 15  Center                      96413 non-null  object        \n",
      " 16  Recall Details              96413 non-null  object        \n",
      "dtypes: datetime64[ns](1), int64(2), object(14)\n",
      "memory usage: 12.5+ MB\n"
     ]
    }
   ],
   "source": [
    "recalls.info()"
   ]
  },
  {
   "cell_type": "code",
   "execution_count": 4,
   "id": "b145d8ab-0f60-40da-bae4-043f9dbd550b",
   "metadata": {},
   "outputs": [
    {
     "name": "stdout",
     "output_type": "stream",
     "text": [
      "       FEI Number Recalling Firm Name Product Type Product Classification  \\\n",
      "20361  3012046682        FlexDex Inc.      Devices               Class II   \n",
      "\n",
      "           Status Distribution Pattern Recalling Firm City  \\\n",
      "20361  Terminated                  NaN            Brighton   \n",
      "\n",
      "      Recalling Firm State Recalling Firm Country Center Classification Date  \\\n",
      "20361             Michigan          United States                 2022-01-27   \n",
      "\n",
      "                                       Reason for Recall  \\\n",
      "20361  The firm is reinforcing the IFU instructions: ...   \n",
      "\n",
      "                                     Product Description  Event ID  \\\n",
      "20361  8mm FlexDex Needle Driver, Product Code FD-335 ND     89316   \n",
      "\n",
      "      Event Classification  Product ID Center  \\\n",
      "20361             Class II      191253   CDRH   \n",
      "\n",
      "                                          Recall Details  \n",
      "20361  https://www.accessdata.fda.gov/scripts/ires/?P...  \n"
     ]
    }
   ],
   "source": [
    "print(recalls[recalls.isnull().any(axis=1)])"
   ]
  },
  {
   "cell_type": "code",
   "execution_count": 5,
   "id": "c0e9bea8-4e70-4fe9-a54b-69ae496e8b1d",
   "metadata": {},
   "outputs": [
    {
     "name": "stdout",
     "output_type": "stream",
     "text": [
      "FEI Number                                                           3012046682\n",
      "Recalling Firm Name                                                FlexDex Inc.\n",
      "Product Type                                                            Devices\n",
      "Product Classification                                                 Class II\n",
      "Status                                                               Terminated\n",
      "Distribution Pattern                                                        NaN\n",
      "Recalling Firm City                                                    Brighton\n",
      "Recalling Firm State                                                   Michigan\n",
      "Recalling Firm Country                                            United States\n",
      "Center Classification Date                                  2022-01-27 00:00:00\n",
      "Reason for Recall             The firm is reinforcing the IFU instructions: ...\n",
      "Product Description           8mm FlexDex Needle Driver, Product Code FD-335 ND\n",
      "Event ID                                                                  89316\n",
      "Event Classification                                                   Class II\n",
      "Product ID                                                               191253\n",
      "Center                                                                     CDRH\n",
      "Recall Details                https://www.accessdata.fda.gov/scripts/ires/?P...\n",
      "Name: 20361, dtype: object\n"
     ]
    }
   ],
   "source": [
    "print(recalls.iloc[20361])"
   ]
  },
  {
   "cell_type": "code",
   "execution_count": 6,
   "id": "99f339d6-782b-43df-8bff-a87413d25c06",
   "metadata": {},
   "outputs": [],
   "source": [
    "recalls = recalls.dropna() # no food examples contain null fields, so discard such rows\n",
    "recalls = recalls.reset_index(drop=True)"
   ]
  },
  {
   "cell_type": "code",
   "execution_count": 7,
   "id": "f6ae707d-e41b-44be-9ed0-9e8155e79ba4",
   "metadata": {},
   "outputs": [
    {
     "data": {
      "text/plain": [
       "count        96412\n",
       "unique           3\n",
       "top       Class II\n",
       "freq         69429\n",
       "Name: Product Classification, dtype: object"
      ]
     },
     "execution_count": 7,
     "metadata": {},
     "output_type": "execute_result"
    }
   ],
   "source": [
    "recalls['Product Classification'].describe()"
   ]
  },
  {
   "cell_type": "code",
   "execution_count": 8,
   "id": "0430a449-ac08-45c5-975d-64906e7ab0db",
   "metadata": {},
   "outputs": [
    {
     "data": {
      "text/plain": [
       "count             96412\n",
       "unique               57\n",
       "top       United States\n",
       "freq              91934\n",
       "Name: Recalling Firm Country, dtype: object"
      ]
     },
     "execution_count": 8,
     "metadata": {},
     "output_type": "execute_result"
    }
   ],
   "source": [
    "recalls['Recalling Firm Country'].describe() # only create binary variable for US, since one-hot encoding not recommended for categorical variables of high cardinality "
   ]
  },
  {
   "cell_type": "code",
   "execution_count": 9,
   "id": "da03d8f5-fa5a-4712-b355-2e1795a5e442",
   "metadata": {},
   "outputs": [
    {
     "data": {
      "text/plain": [
       "count        96412\n",
       "unique           3\n",
       "top       Class II\n",
       "freq         68331\n",
       "Name: Event Classification, dtype: object"
      ]
     },
     "execution_count": 9,
     "metadata": {},
     "output_type": "execute_result"
    }
   ],
   "source": [
    "recalls['Event Classification'].describe()"
   ]
  },
  {
   "cell_type": "code",
   "execution_count": 10,
   "id": "e765f1c3-f512-423c-b89c-20e7a6a151e4",
   "metadata": {},
   "outputs": [
    {
     "data": {
      "text/plain": [
       "count     96412\n",
       "unique        7\n",
       "top        CDRH\n",
       "freq      36128\n",
       "Name: Center, dtype: object"
      ]
     },
     "execution_count": 10,
     "metadata": {},
     "output_type": "execute_result"
    }
   ],
   "source": [
    "recalls['Center'].describe()"
   ]
  },
  {
   "cell_type": "code",
   "execution_count": 11,
   "id": "f2391116-6fa8-4b25-adbf-4f4b136d1a8c",
   "metadata": {},
   "outputs": [],
   "source": [
    "recalls = pd.get_dummies(recalls,columns=['Product Classification','Recalling Firm Country','Event Classification','Center'],drop_first=True,dtype=int)"
   ]
  },
  {
   "cell_type": "code",
   "execution_count": 12,
   "id": "ade03aaa-cc7e-4b4d-aa94-c418079a09a6",
   "metadata": {},
   "outputs": [],
   "source": [
    "for col_name in recalls:\n",
    "    if col_name.startswith('Recalling Firm Country') and col_name != 'Recalling Firm Country_United States':  \n",
    "        recalls = recalls.drop(columns=[col_name])"
   ]
  },
  {
   "cell_type": "code",
   "execution_count": 13,
   "id": "e52c5ec9-431e-4ed5-9e4e-e6e6b8c4987a",
   "metadata": {},
   "outputs": [
    {
     "data": {
      "text/html": [
       "<div>\n",
       "<style scoped>\n",
       "    .dataframe tbody tr th:only-of-type {\n",
       "        vertical-align: middle;\n",
       "    }\n",
       "\n",
       "    .dataframe tbody tr th {\n",
       "        vertical-align: top;\n",
       "    }\n",
       "\n",
       "    .dataframe thead th {\n",
       "        text-align: right;\n",
       "    }\n",
       "</style>\n",
       "<table border=\"1\" class=\"dataframe\">\n",
       "  <thead>\n",
       "    <tr style=\"text-align: right;\">\n",
       "      <th></th>\n",
       "      <th>FEI Number</th>\n",
       "      <th>Recalling Firm Name</th>\n",
       "      <th>Product Type</th>\n",
       "      <th>Status</th>\n",
       "      <th>Distribution Pattern</th>\n",
       "      <th>Recalling Firm City</th>\n",
       "      <th>Recalling Firm State</th>\n",
       "      <th>Center Classification Date</th>\n",
       "      <th>Reason for Recall</th>\n",
       "      <th>Product Description</th>\n",
       "      <th>...</th>\n",
       "      <th>Product Classification_Class III</th>\n",
       "      <th>Recalling Firm Country_United States</th>\n",
       "      <th>Event Classification_Class II</th>\n",
       "      <th>Event Classification_Class III</th>\n",
       "      <th>Center_CDER</th>\n",
       "      <th>Center_CDRH</th>\n",
       "      <th>Center_CFSAN</th>\n",
       "      <th>Center_CTP</th>\n",
       "      <th>Center_CVM</th>\n",
       "      <th>Center_HFP</th>\n",
       "    </tr>\n",
       "  </thead>\n",
       "  <tbody>\n",
       "    <tr>\n",
       "      <th>0</th>\n",
       "      <td>1417592</td>\n",
       "      <td>MEDLINE INDUSTRIES, LP - Northfield</td>\n",
       "      <td>Devices</td>\n",
       "      <td>Ongoing</td>\n",
       "      <td>US distribution to CA, FL, IL, IN, KY, MA, MD,...</td>\n",
       "      <td>Northfield</td>\n",
       "      <td>Illinois</td>\n",
       "      <td>2025-05-30</td>\n",
       "      <td>Affected kits contain recalled Integra Lifesci...</td>\n",
       "      <td>Medline Kits containing Codman Disposable Perf...</td>\n",
       "      <td>...</td>\n",
       "      <td>0</td>\n",
       "      <td>1</td>\n",
       "      <td>0</td>\n",
       "      <td>0</td>\n",
       "      <td>0</td>\n",
       "      <td>1</td>\n",
       "      <td>0</td>\n",
       "      <td>0</td>\n",
       "      <td>0</td>\n",
       "      <td>0</td>\n",
       "    </tr>\n",
       "    <tr>\n",
       "      <th>1</th>\n",
       "      <td>1417592</td>\n",
       "      <td>MEDLINE INDUSTRIES, LP - Northfield</td>\n",
       "      <td>Devices</td>\n",
       "      <td>Ongoing</td>\n",
       "      <td>US distribution to CA, FL, IL, IN, KY, MA, MD,...</td>\n",
       "      <td>Northfield</td>\n",
       "      <td>Illinois</td>\n",
       "      <td>2025-05-30</td>\n",
       "      <td>Affected kits contain recalled Integra Lifesci...</td>\n",
       "      <td>Medline Kits containing Codman Disposable Perf...</td>\n",
       "      <td>...</td>\n",
       "      <td>0</td>\n",
       "      <td>1</td>\n",
       "      <td>0</td>\n",
       "      <td>0</td>\n",
       "      <td>0</td>\n",
       "      <td>1</td>\n",
       "      <td>0</td>\n",
       "      <td>0</td>\n",
       "      <td>0</td>\n",
       "      <td>0</td>\n",
       "    </tr>\n",
       "    <tr>\n",
       "      <th>2</th>\n",
       "      <td>1417592</td>\n",
       "      <td>MEDLINE INDUSTRIES, LP - Northfield</td>\n",
       "      <td>Devices</td>\n",
       "      <td>Ongoing</td>\n",
       "      <td>US distribution to CA, FL, IL, IN, KY, MA, MD,...</td>\n",
       "      <td>Northfield</td>\n",
       "      <td>Illinois</td>\n",
       "      <td>2025-05-30</td>\n",
       "      <td>Affected kits contain recalled Integra Lifesci...</td>\n",
       "      <td>Medline Kits containing Codman Disposable Perf...</td>\n",
       "      <td>...</td>\n",
       "      <td>0</td>\n",
       "      <td>1</td>\n",
       "      <td>0</td>\n",
       "      <td>0</td>\n",
       "      <td>0</td>\n",
       "      <td>1</td>\n",
       "      <td>0</td>\n",
       "      <td>0</td>\n",
       "      <td>0</td>\n",
       "      <td>0</td>\n",
       "    </tr>\n",
       "    <tr>\n",
       "      <th>3</th>\n",
       "      <td>1314417</td>\n",
       "      <td>SunMed Holdings, LLC</td>\n",
       "      <td>Devices</td>\n",
       "      <td>Ongoing</td>\n",
       "      <td>US Nationwide distribution via Medline.</td>\n",
       "      <td>Grand Rapids</td>\n",
       "      <td>Michigan</td>\n",
       "      <td>2025-05-30</td>\n",
       "      <td>Affected lots were manufactured with B/V Filte...</td>\n",
       "      <td>Adult Manual Resuscitator with Medium Adult Ma...</td>\n",
       "      <td>...</td>\n",
       "      <td>0</td>\n",
       "      <td>1</td>\n",
       "      <td>0</td>\n",
       "      <td>0</td>\n",
       "      <td>0</td>\n",
       "      <td>1</td>\n",
       "      <td>0</td>\n",
       "      <td>0</td>\n",
       "      <td>0</td>\n",
       "      <td>0</td>\n",
       "    </tr>\n",
       "    <tr>\n",
       "      <th>4</th>\n",
       "      <td>3017392532</td>\n",
       "      <td>NEW GRAINS GLUTEN FREE BAKERY</td>\n",
       "      <td>Food/Cosmetics</td>\n",
       "      <td>Ongoing</td>\n",
       "      <td>Utah</td>\n",
       "      <td>Spanish Fork</td>\n",
       "      <td>Utah</td>\n",
       "      <td>2025-05-30</td>\n",
       "      <td>Due to printing quality, label does not declar...</td>\n",
       "      <td>Artisan Multigrain Bread:\\n\\nGluten-free multi...</td>\n",
       "      <td>...</td>\n",
       "      <td>0</td>\n",
       "      <td>1</td>\n",
       "      <td>0</td>\n",
       "      <td>0</td>\n",
       "      <td>0</td>\n",
       "      <td>0</td>\n",
       "      <td>1</td>\n",
       "      <td>0</td>\n",
       "      <td>0</td>\n",
       "      <td>0</td>\n",
       "    </tr>\n",
       "  </tbody>\n",
       "</table>\n",
       "<p>5 rows × 24 columns</p>\n",
       "</div>"
      ],
      "text/plain": [
       "   FEI Number                  Recalling Firm Name    Product Type   Status  \\\n",
       "0     1417592  MEDLINE INDUSTRIES, LP - Northfield         Devices  Ongoing   \n",
       "1     1417592  MEDLINE INDUSTRIES, LP - Northfield         Devices  Ongoing   \n",
       "2     1417592  MEDLINE INDUSTRIES, LP - Northfield         Devices  Ongoing   \n",
       "3     1314417                 SunMed Holdings, LLC         Devices  Ongoing   \n",
       "4  3017392532        NEW GRAINS GLUTEN FREE BAKERY  Food/Cosmetics  Ongoing   \n",
       "\n",
       "                                Distribution Pattern Recalling Firm City  \\\n",
       "0  US distribution to CA, FL, IL, IN, KY, MA, MD,...          Northfield   \n",
       "1  US distribution to CA, FL, IL, IN, KY, MA, MD,...          Northfield   \n",
       "2  US distribution to CA, FL, IL, IN, KY, MA, MD,...          Northfield   \n",
       "3            US Nationwide distribution via Medline.        Grand Rapids   \n",
       "4                                               Utah        Spanish Fork   \n",
       "\n",
       "  Recalling Firm State Center Classification Date  \\\n",
       "0             Illinois                 2025-05-30   \n",
       "1             Illinois                 2025-05-30   \n",
       "2             Illinois                 2025-05-30   \n",
       "3             Michigan                 2025-05-30   \n",
       "4                 Utah                 2025-05-30   \n",
       "\n",
       "                                   Reason for Recall  \\\n",
       "0  Affected kits contain recalled Integra Lifesci...   \n",
       "1  Affected kits contain recalled Integra Lifesci...   \n",
       "2  Affected kits contain recalled Integra Lifesci...   \n",
       "3  Affected lots were manufactured with B/V Filte...   \n",
       "4  Due to printing quality, label does not declar...   \n",
       "\n",
       "                                 Product Description  ...  \\\n",
       "0  Medline Kits containing Codman Disposable Perf...  ...   \n",
       "1  Medline Kits containing Codman Disposable Perf...  ...   \n",
       "2  Medline Kits containing Codman Disposable Perf...  ...   \n",
       "3  Adult Manual Resuscitator with Medium Adult Ma...  ...   \n",
       "4  Artisan Multigrain Bread:\\n\\nGluten-free multi...  ...   \n",
       "\n",
       "   Product Classification_Class III  Recalling Firm Country_United States  \\\n",
       "0                                 0                                     1   \n",
       "1                                 0                                     1   \n",
       "2                                 0                                     1   \n",
       "3                                 0                                     1   \n",
       "4                                 0                                     1   \n",
       "\n",
       "  Event Classification_Class II  Event Classification_Class III  Center_CDER  \\\n",
       "0                             0                               0            0   \n",
       "1                             0                               0            0   \n",
       "2                             0                               0            0   \n",
       "3                             0                               0            0   \n",
       "4                             0                               0            0   \n",
       "\n",
       "   Center_CDRH  Center_CFSAN  Center_CTP  Center_CVM  Center_HFP  \n",
       "0            1             0           0           0           0  \n",
       "1            1             0           0           0           0  \n",
       "2            1             0           0           0           0  \n",
       "3            1             0           0           0           0  \n",
       "4            0             1           0           0           0  \n",
       "\n",
       "[5 rows x 24 columns]"
      ]
     },
     "execution_count": 13,
     "metadata": {},
     "output_type": "execute_result"
    }
   ],
   "source": [
    "recalls.head()"
   ]
  },
  {
   "cell_type": "code",
   "execution_count": 14,
   "id": "2234b742-be0c-42f5-8e0b-57507821f97b",
   "metadata": {},
   "outputs": [
    {
     "name": "stdout",
     "output_type": "stream",
     "text": [
      "Index(['FEI Number', 'Recalling Firm Name', 'Product Type', 'Status',\n",
      "       'Distribution Pattern', 'Recalling Firm City', 'Recalling Firm State',\n",
      "       'Center Classification Date', 'Reason for Recall',\n",
      "       'Product Description', 'Event ID', 'Product ID', 'Recall Details',\n",
      "       'Product Classification_Class II', 'Product Classification_Class III',\n",
      "       'Recalling Firm Country_United States', 'Event Classification_Class II',\n",
      "       'Event Classification_Class III', 'Center_CDER', 'Center_CDRH',\n",
      "       'Center_CFSAN', 'Center_CTP', 'Center_CVM', 'Center_HFP'],\n",
      "      dtype='object')\n"
     ]
    }
   ],
   "source": [
    "print(recalls.columns)"
   ]
  },
  {
   "cell_type": "code",
   "execution_count": 18,
   "id": "7d8b0a75-31df-4937-a894-86fbbf709659",
   "metadata": {},
   "outputs": [],
   "source": [
    "recalls['Reason for Recall'] = recalls['Reason for Recall'].str.lower()"
   ]
  },
  {
   "cell_type": "code",
   "execution_count": 93,
   "id": "61f127b5-4c94-4e55-acbe-bc2ef9f26b82",
   "metadata": {},
   "outputs": [
    {
     "data": {
      "text/plain": [
       "7599"
      ]
     },
     "execution_count": 93,
     "metadata": {},
     "output_type": "execute_result"
    }
   ],
   "source": [
    "recalls['Reason for Recall'].str.contains('declar', case=False).sum()"
   ]
  },
  {
   "cell_type": "code",
   "execution_count": 94,
   "id": "5790e3bd-1a24-4528-9da3-cd6ae6d5fe65",
   "metadata": {},
   "outputs": [
    {
     "data": {
      "text/plain": [
       "1218"
      ]
     },
     "execution_count": 94,
     "metadata": {},
     "output_type": "execute_result"
    }
   ],
   "source": [
    "recalls['Reason for Recall'].str.contains('mislab', case=False).sum()"
   ]
  },
  {
   "cell_type": "code",
   "execution_count": 96,
   "id": "61e705ad-691a-42e7-8ddf-d11f64314849",
   "metadata": {},
   "outputs": [
    {
     "data": {
      "text/plain": [
       "7265"
      ]
     },
     "execution_count": 96,
     "metadata": {},
     "output_type": "execute_result"
    }
   ],
   "source": [
    "recalls['Reason for Recall'].str.contains('listeria', case=False).sum()"
   ]
  },
  {
   "cell_type": "code",
   "execution_count": 97,
   "id": "071b37d7-3ef6-46eb-95c5-99e0ac1b0032",
   "metadata": {},
   "outputs": [
    {
     "data": {
      "text/plain": [
       "3969"
      ]
     },
     "execution_count": 97,
     "metadata": {},
     "output_type": "execute_result"
    }
   ],
   "source": [
    "recalls['Reason for Recall'].str.contains('salmonella', case=False).sum()"
   ]
  },
  {
   "cell_type": "code",
   "execution_count": 92,
   "id": "391973f8-5e50-436d-b62f-3cf5950c4260",
   "metadata": {},
   "outputs": [
    {
     "data": {
      "text/plain": [
       "561"
      ]
     },
     "execution_count": 92,
     "metadata": {},
     "output_type": "execute_result"
    }
   ],
   "source": [
    "(recalls['Reason for Recall'].str.contains('e. coli', case=False) | recalls['Reason for Recall'].str.contains('e.coli', case=False)).sum()"
   ]
  },
  {
   "cell_type": "code",
   "execution_count": 99,
   "id": "6fcefefa-2be5-47e4-8cd4-09a539f14eb2",
   "metadata": {},
   "outputs": [
    {
     "data": {
      "text/plain": [
       "764"
      ]
     },
     "execution_count": 99,
     "metadata": {},
     "output_type": "execute_result"
    }
   ],
   "source": [
    "recalls['Reason for Recall'].str.contains('elevated levels', case=False).sum()"
   ]
  },
  {
   "cell_type": "code",
   "execution_count": 90,
   "id": "d4d41fdf-1566-43ba-87f1-f7042140e675",
   "metadata": {},
   "outputs": [
    {
     "data": {
      "text/plain": [
       "907"
      ]
     },
     "execution_count": 90,
     "metadata": {},
     "output_type": "execute_result"
    }
   ],
   "source": [
    "(recalls['Reason for Recall'].str.contains('foreign object', case=False) | recalls['Reason for Recall'].str.contains('foreign material', case=False)).sum()"
   ]
  },
  {
   "cell_type": "code",
   "execution_count": 85,
   "id": "d4fe5b0c-7f41-43b2-9b9f-88dbb120dec6",
   "metadata": {},
   "outputs": [
    {
     "name": "stderr",
     "output_type": "stream",
     "text": [
      "[nltk_data] Downloading package stopwords to\n",
      "[nltk_data]     C:\\Users\\sambo\\AppData\\Roaming\\nltk_data...\n",
      "[nltk_data]   Package stopwords is already up-to-date!\n"
     ]
    },
    {
     "name": "stdout",
     "output_type": "stream",
     "text": [
      "[('may', 24947), ('products', 23592), ('product', 21723), ('potential', 15040), ('distributed', 13120), ('due', 12355), ('sterility', 11376), ('blood', 11231), ('donor', 8519), ('lack', 7941), ('listeria', 7714), ('assurance', 7700), ('contain', 7488), ('contaminated', 7477), ('monocytogenes', 7225), ('contamination', 7159), ('collected', 6575), ('recall', 6494), ('recalled', 6461), ('undeclared', 6415), ('result', 6287), ('could', 5678), ('firm', 5434), ('recalling', 5326), ('sterile', 5010), ('patient', 4694), ('system', 4685), ('fda', 4460), ('manufactured', 4448), ('use', 4406), ('potentially', 4221), ('used', 4193), ('salmonella', 4027), ('lots', 4007), ('device', 3907), ('label', 3845), ('found', 3785), ('incorrect', 3734), ('cgmp', 3672), ('determined', 3534), ('milk', 3498), ('risk', 3392), ('results', 3324), ('packaging', 3287), ('deviations', 3249), ('various', 3118), ('identified', 3017), ('inc', 2998), ('quality', 2941), ('specifications', 2856)]\n"
     ]
    }
   ],
   "source": [
    "from collections import Counter\n",
    "import re\n",
    "import nltk\n",
    "nltk.download('stopwords')\n",
    "\n",
    "def analyze_most_common_words(data_series, n=10):\n",
    "    # Clean the text\n",
    "    text = ' '.join(str(item) for item in data_series)\n",
    "    text = re.sub(r'[^\\w\\s]', '', text).lower()\n",
    "    words = text.split()\n",
    "    \n",
    "    # Remove stop words\n",
    "    stop_words = set(stopwords.words('english'))\n",
    "    words = [word for word in words if word not in stop_words]\n",
    "\n",
    "    # Count word frequencies\n",
    "    word_counts = Counter(words)\n",
    "\n",
    "    # Get the most common words\n",
    "    most_common = word_counts.most_common(n)\n",
    "    \n",
    "    return most_common\n",
    "\n",
    "most_common = analyze_most_common_words(recalls['Reason for Recall'], 50)\n",
    "print(most_common)"
   ]
  },
  {
   "cell_type": "code",
   "execution_count": null,
   "id": "bfea8e9a-560c-46bb-8740-658d05e97e61",
   "metadata": {},
   "outputs": [],
   "source": []
  }
 ],
 "metadata": {
  "kernelspec": {
   "display_name": "erdos_summer_2025",
   "language": "python",
   "name": "python3"
  },
  "language_info": {
   "codemirror_mode": {
    "name": "ipython",
    "version": 3
   },
   "file_extension": ".py",
   "mimetype": "text/x-python",
   "name": "python",
   "nbconvert_exporter": "python",
   "pygments_lexer": "ipython3",
   "version": "3.12.10"
  }
 },
 "nbformat": 4,
 "nbformat_minor": 5
}
